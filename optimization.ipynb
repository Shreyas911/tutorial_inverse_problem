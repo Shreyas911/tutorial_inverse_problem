{
 "cells": [
  {
   "cell_type": "code",
   "execution_count": 1,
   "metadata": {},
   "outputs": [],
   "source": [
    "import numpy as np\n",
    "import matplotlib.pyplot as plt"
   ]
  },
  {
   "cell_type": "code",
   "execution_count": 2,
   "metadata": {},
   "outputs": [
    {
     "data": {
      "text/plain": [
       "'/Users/shreyas/Desktop/Shreyas/tutorial_inverse_problem'"
      ]
     },
     "execution_count": 2,
     "metadata": {},
     "output_type": "execute_result"
    }
   ],
   "source": [
    "import os\n",
    "os.getcwd()"
   ]
  },
  {
   "cell_type": "markdown",
   "metadata": {},
   "source": [
    "https://en.wikipedia.org/wiki/Broyden%E2%80%93Fletcher%E2%80%93Goldfarb%E2%80%93Shanno_algorithm\n"
   ]
  },
  {
   "cell_type": "code",
   "execution_count": 3,
   "metadata": {},
   "outputs": [
    {
     "data": {
      "text/plain": [
       "0"
      ]
     },
     "execution_count": 3,
     "metadata": {},
     "output_type": "execute_result"
    }
   ],
   "source": [
    "nx = 30\n",
    "\n",
    "def read_state(file_state = 'state.txt'):\n",
    "    \n",
    "    M = np.zeros((nx+1,), dtype = float)\n",
    "    b = np.zeros((nx+1,), dtype = float)\n",
    "    \n",
    "    with open(file_state, 'r') as reader:\n",
    "        content = reader.readlines()\n",
    "        \n",
    "        for i in range(nx+1):\n",
    "            M[i] = float(content[i])\n",
    "            b[i] = float(content[nx+1+i])\n",
    "        \n",
    "    return np.concatenate((M, b))\n",
    "\n",
    "def read_gradient(file_grad = 'gradient.txt'):\n",
    "    \n",
    "    Mb = np.zeros((nx+1,), dtype = float)\n",
    "    bb = np.zeros((nx+1,), dtype = float)\n",
    "    \n",
    "    with open(file_grad, 'r') as reader:\n",
    "        content = reader.readlines()\n",
    "\n",
    "        for i in range(nx+1):\n",
    "            Mb[i] = float(content[i])\n",
    "            bb[i] = float(content[nx+1+i])\n",
    "        \n",
    "    return np.concatenate((Mb, bb))\n",
    "\n",
    "def write_state(state, file_state = 'state.txt'):\n",
    "    \n",
    "    if len(state) != 2*(nx+1):\n",
    "        print(\"Inputs to write_state maybe of incorrect length\")\n",
    "    \n",
    "    with open(file_state, 'w') as writer:\n",
    "        for i in range(2*(nx+1)-1):\n",
    "            writer.write(f\"{state[i]}\\n\")\n",
    "        writer.write(f\"{state[-1]}\")\n",
    "        \n",
    "    return None\n",
    "\n",
    "def eval_gradient(state, file_gradient = 'gradient.txt', file_state = 'state.txt'):\n",
    "    write_state(state)\n",
    "    os.system(\"./adjoint\")\n",
    "    \n",
    "    gradient = read_gradient(file_grad = file_gradient)\n",
    "        \n",
    "    return gradient\n",
    "\n",
    "def eval_loss(state, file_loss = 'loss_inexact_line_search.txt', file_state = 'state.txt'):\n",
    "    write_state(state)\n",
    "    os.system(\"./forward\")\n",
    "    \n",
    "    with open(file_loss, 'r') as reader:\n",
    "        content = reader.readlines()\n",
    "        J = float(content[0])\n",
    "        \n",
    "    return J\n",
    "\n",
    "os.system(\"make -f Makefile clean; make -f Makefile\")\n",
    "os.system(\"make -f Makefile_forward clean; make -f Makefile_forward\")"
   ]
  },
  {
   "cell_type": "code",
   "execution_count": 4,
   "metadata": {},
   "outputs": [
    {
     "data": {
      "text/plain": [
       "array([0.01, 0.01, 0.01, 0.01, 0.01, 0.01, 0.01, 0.01, 0.01, 0.01, 0.01,\n",
       "       0.01, 0.01, 0.01, 0.01, 0.01, 0.01, 0.01, 0.01, 0.01, 0.01, 0.01,\n",
       "       0.01, 0.01, 0.01, 0.01, 0.01, 0.01, 0.01, 0.01, 0.01, 1.  , 1.  ,\n",
       "       1.  , 1.  , 1.  , 1.  , 1.  , 1.  , 1.  , 1.  , 1.  , 1.  , 1.  ,\n",
       "       1.  , 1.  , 1.  , 1.  , 1.  , 1.  , 1.  , 1.  , 1.  , 1.  , 1.  ,\n",
       "       1.  , 1.  , 1.  , 1.  , 1.  , 1.  , 1.  ])"
      ]
     },
     "execution_count": 4,
     "metadata": {},
     "output_type": "execute_result"
    }
   ],
   "source": [
    "x = np.arange(31)\n",
    "M_true = 0.004 - 0.0002*x\n",
    "b_true = 1.0 - 0.0001*x\n",
    "\n",
    "write_state(np.concatenate((0.01*np.ones((nx+1,)), np.ones((nx+1,)))))\n",
    "\n",
    "read_state()\n"
   ]
  },
  {
   "cell_type": "code",
   "execution_count": 5,
   "metadata": {},
   "outputs": [],
   "source": [
    "def BFGS_update_matrix(B, inv_B, y, s):\n",
    "    \n",
    "    B_times_s = np.matmul(B, s)\n",
    "    y_dot_s = np.inner(y, s)\n",
    "    \n",
    "    ##### UPDATE B #####\n",
    "    B_new = B + np.outer(y,y)/y_dot_s - np.outer(B_times_s, B_times_s)/np.inner(s, B_times_s)\n",
    "    \n",
    "    ##### UPDATE INV_B #####\n",
    "    I = np.eye(B.shape[0], dtype = float)\n",
    "    \n",
    "    left = I - np.outer(s, y)/ y_dot_s\n",
    "    right = I - np.outer(y, s)/ y_dot_s\n",
    "    inv_B_new = np.matmul(left, np.matmul(inv_B, right)) + np.outer(s, s) / y_dot_s\n",
    "    \n",
    "    eigs, _ = np.linalg.eig(B_new)\n",
    "    \n",
    "    for eig in eigs:\n",
    "        if(eig <= 0):\n",
    "            print(\"Hessian not Positive definite\")\n",
    "            break\n",
    "        else:\n",
    "            pass\n",
    "        \n",
    "    return B_new, inv_B_new\n",
    "\n",
    "def search_alpha(state, gradient, rho, alpha = 1, c1 = 1e-4, c2 = 0.9):\n",
    "    while True:\n",
    "        \n",
    "        f_old = eval_loss(state)\n",
    "        f_new = eval_loss(state+alpha*rho)\n",
    "        \n",
    "        gradient_new = eval_gradient(state+alpha*rho)\n",
    "        #print((f_new - f_old) - c1*alpha*np.inner(rho, gradient), np.inner(rho, gradient_new) -  c2*np.inner(rho, gradient))\n",
    "        if (f_new - f_old) <= c1*alpha*np.inner(rho, gradient) and np.inner(rho, gradient_new) >=  c2*np.inner(rho, gradient): \n",
    "            break\n",
    "        else:\n",
    "            alpha = alpha/2\n",
    "            \n",
    "    return alpha\n",
    "\n"
   ]
  },
  {
   "cell_type": "markdown",
   "metadata": {},
   "source": [
    "https://scicomp.stackexchange.com/questions/11323/effect-of-initial-guess-b-approximate-hessian-on-bfgs-algorithm"
   ]
  },
  {
   "cell_type": "code",
   "execution_count": 6,
   "metadata": {
    "scrolled": true
   },
   "outputs": [
    {
     "name": "stdout",
     "output_type": "stream",
     "text": [
      "iter = 1; Loss = 707.7671740200067\n",
      "Set/Reset initial guess\n",
      "iter = 2; Loss = 1.8340323871868536\n",
      "iter = 3; Loss = 0.7579386963209628\n",
      "iter = 4; Loss = 0.5824809393771267\n",
      "iter = 5; Loss = 0.573316138795839\n",
      "iter = 6; Loss = 0.24105546826849245\n",
      "iter = 7; Loss = 0.22558707124758884\n",
      "iter = 8; Loss = 0.19870817395606416\n",
      "iter = 9; Loss = 0.06910364924496544\n",
      "iter = 10; Loss = 0.03784573100285722\n",
      "iter = 11; Loss = 0.03448027464087923\n"
     ]
    }
   ],
   "source": [
    "##### INITIAL GUESS #####\n",
    "M = 0.001*np.ones((nx+1,))\n",
    "b = 0.5*np.ones((nx+1,))\n",
    "\n",
    "write_state(np.concatenate((M, b)))\n",
    "\n",
    "MAX_ITERS = 11\n",
    "\n",
    "state = read_state()\n",
    "\n",
    "gradient = eval_gradient(state)\n",
    "\n",
    "B = np.diagflat(np.concatenate((np.ones(nx+1), 0.1*np.ones(nx+1))))\n",
    "B_inv = np.linalg.inv(B)\n",
    "\n",
    "M_list = []\n",
    "b_list = []\n",
    "for iteration in range(MAX_ITERS):\n",
    "\n",
    "    state_old = np.copy(state)\n",
    "    gradient_old = np.copy(gradient)\n",
    "    \n",
    "    rho = -np.matmul(B_inv, gradient_old)\n",
    "    alpha = search_alpha(state_old, gradient_old, rho)\n",
    "    \n",
    "    s = alpha*rho\n",
    "    state = state_old + s\n",
    "    gradient = eval_gradient(state)\n",
    "    y = gradient - gradient_old\n",
    "        \n",
    "    if iteration == 0:\n",
    "        \n",
    "        pass\n",
    "        \n",
    "    elif iteration == 1 or np.inner(y, s) <= 0:\n",
    "        \n",
    "        if (iteration == 1): print(\"Set/Reset initial guess\")\n",
    "        #print(f\"B reset iter {iteration}\")\n",
    "        B =  np.inner(y, y) / np.abs(np.inner(y, s)) * np.eye(2*(nx+1), dtype = float)\n",
    "        B_inv =  np.abs(np.inner(y, s)) / np.inner(y, y) * np.eye(2*(nx+1), dtype = float)\n",
    "        \n",
    "    else:\n",
    "            \n",
    "        B, B_inv = BFGS_update_matrix(B, B_inv, y, s)\n",
    "        \n",
    "    M_list.append(state[:nx+1])\n",
    "    b_list.append(state[nx+1:2*(nx+1)])\n",
    "    \n",
    "    print(f\"iter = {iteration+1}; Loss = {eval_loss(state)}\")\n",
    "    "
   ]
  },
  {
   "cell_type": "code",
   "execution_count": 7,
   "metadata": {},
   "outputs": [
    {
     "data": {
      "text/plain": [
       "[<matplotlib.lines.Line2D at 0x7fb6ae887460>]"
      ]
     },
     "execution_count": 7,
     "metadata": {},
     "output_type": "execute_result"
    },
    {
     "data": {
      "image/png": "[encoded data removed]",
      "text/plain": [
       "<Figure size 432x288 with 1 Axes>"
      ]
     },
     "metadata": {
      "needs_background": "light"
     },
     "output_type": "display_data"
    }
   ],
   "source": [
    "plt.plot(M_true)\n",
    "plt.plot(state[:nx+1])"
   ]
  },
  {
   "cell_type": "code",
   "execution_count": 8,
   "metadata": {},
   "outputs": [
    {
     "data": {
      "text/plain": [
       "[<matplotlib.lines.Line2D at 0x7fb6ae8efe20>]"
      ]
     },
     "execution_count": 8,
     "metadata": {},
     "output_type": "execute_result"
    },
    {
     "data": {
      "image/png": "[encoded data removed]",
      "text/plain": [
       "<Figure size 432x288 with 1 Axes>"
      ]
     },
     "metadata": {
      "needs_background": "light"
     },
     "output_type": "display_data"
    }
   ],
   "source": [
    "plt.plot(b_true)\n",
    "plt.plot(state[nx+1:])"
   ]
  },
  {
   "cell_type": "markdown",
   "metadata": {},
   "source": [
    "https://www.stat.cmu.edu/~ryantibs/convexopt-F16/lectures/quasi-newton.pdf           \n",
    "https://www.stat.cmu.edu/~ryantibs/convexopt-F18/lectures/quasi-newton.pdf"
   ]
  },
  {
   "cell_type": "code",
   "execution_count": 9,
   "metadata": {},
   "outputs": [],
   "source": [
    "def L_BFGS_update(k, state_k, y_list, s_list, m):\n",
    "    \n",
    "    q = - eval_gradient(state_k)\n",
    "    \n",
    "    alpha = np.zeros(k)\n",
    "    \n",
    "    for i in range(k-1, np.maximum(k-m, 0) - 1, -1):\n",
    "        \n",
    "        alpha[i] = np.inner(s_list[i-np.maximum(k-m, 0)], q)/np.inner(y_list[i-np.maximum(k-m, 0)], s_list[i-np.maximum(k-m, 0)])\n",
    "        q = q - alpha[i]*y_list[i-np.maximum(k-m, 0)]\n",
    "        \n",
    "    p = np.inner(np.array(y_list[-1]), np.array(s_list[-1]))/np.inner(np.array(y_list[-1]), np.array(y_list[-1]))*q\n",
    "    \n",
    "    for i in range(np.maximum(k-m, 0), k):\n",
    "        beta = np.inner(y_list[i - np.maximum(k-m, 0)], p)/np.inner(y_list[i - np.maximum(k-m, 0)], s_list[i - np.maximum(k-m, 0)])\n",
    "        #print(i, k-m, np.maximum(k-m, 0))\n",
    "        p = p + (alpha[i] - beta)*s_list[i - np.maximum(k-m, 0)]\n",
    "        \n",
    "    return np.array(p)\n",
    "\n",
    "def manage_y_s_lists(m, y_list, s_list, y, s):\n",
    "    if len(y_list) < m and len(s_list) < m and len(y_list) == len(s_list):\n",
    "        y_list.append(np.array(y))\n",
    "        s_list.append(np.array(s))\n",
    "    elif len(y_list) == m and len(s_list) == m:\n",
    "        y_list.pop(0)\n",
    "        s_list.pop(0)\n",
    "        y_list.append(np.array(y))\n",
    "        s_list.append(np.array(s))\n",
    "        \n",
    "    return y_list, s_list\n",
    "        "
   ]
  },
  {
   "cell_type": "code",
   "execution_count": 10,
   "metadata": {},
   "outputs": [
    {
     "name": "stdout",
     "output_type": "stream",
     "text": [
      "iter = 1; Loss = 707.7671740200067\n",
      "iter = 2; Loss = 400.6485036810843\n",
      "iter = 3; Loss = 105.90371340985897\n",
      "iter = 4; Loss = 7.882646627598739\n",
      "iter = 5; Loss = 3.7680773541971533\n",
      "iter = 6; Loss = 2.8824593814948667\n",
      "iter = 7; Loss = 1.2183148884016133\n",
      "iter = 8; Loss = 0.9174564425541337\n",
      "iter = 9; Loss = 0.7548619060007249\n",
      "iter = 10; Loss = 0.34578987428909824\n",
      "iter = 11; Loss = 0.0931207220805799\n",
      "iter = 12; Loss = 0.09146323671375683\n",
      "iter = 13; Loss = 0.08233872592776781\n",
      "iter = 14; Loss = 0.06750163004983548\n",
      "iter = 15; Loss = 0.0222377422601204\n",
      "iter = 16; Loss = 0.021632679487165657\n",
      "iter = 17; Loss = 0.02115003091528225\n",
      "iter = 18; Loss = 0.019969491445571152\n",
      "iter = 19; Loss = 0.015854867927064708\n",
      "iter = 20; Loss = 0.014747646605758485\n",
      "iter = 21; Loss = 0.013345402747475466\n",
      "iter = 22; Loss = 0.010583868982521397\n"
     ]
    }
   ],
   "source": [
    "##### INITIAL GUESS #####\n",
    "M = 0.001*np.ones((nx+1,))\n",
    "b = 0.5*np.ones((nx+1,))\n",
    "\n",
    "write_state(np.concatenate((M, b)))\n",
    "\n",
    "MAX_ITERS = 22\n",
    "\n",
    "\n",
    "\n",
    "state = read_state()\n",
    "\n",
    "gradient = eval_gradient(state)\n",
    "\n",
    "B = np.diagflat(np.concatenate((np.ones(nx+1), 0.1*np.ones(nx+1))))\n",
    "B_inv = np.linalg.inv(B)\n",
    "\n",
    "s_list = []\n",
    "y_list = []\n",
    "\n",
    "m = 10\n",
    "\n",
    "M_list_LBFGS = []\n",
    "b_list_LBFGS = []\n",
    "\n",
    "for iteration in range(MAX_ITERS):\n",
    "    state_old = np.copy(state)\n",
    "    gradient_old = np.copy(gradient)\n",
    "    \n",
    "    if iteration == 0:\n",
    "        rho = -np.matmul(B_inv, gradient_old)\n",
    "        \n",
    "    else: \n",
    "\n",
    "        rho = L_BFGS_update(iteration, state_old, y_list, s_list, m)\n",
    "        \n",
    "    alpha = search_alpha(state_old, gradient_old, rho)\n",
    "    s = alpha*rho\n",
    "    state = state_old + s\n",
    "    gradient = eval_gradient(state)\n",
    "    y = gradient - gradient_old\n",
    "        \n",
    "    y_list, s_list = manage_y_s_lists(m, y_list, s_list, y, s)\n",
    "    \n",
    "    M_list_LBFGS.append(state[:nx+1])\n",
    "    b_list_LBFGS.append(state[nx+1:2*(nx+1)])\n",
    "    \n",
    "    print(f\"iter = {iteration+1}; Loss = {eval_loss(state)}\")\n",
    "    "
   ]
  },
  {
   "cell_type": "code",
   "execution_count": 11,
   "metadata": {},
   "outputs": [
    {
     "data": {
      "text/plain": [
       "[<matplotlib.lines.Line2D at 0x7fb6aea3f1f0>]"
      ]
     },
     "execution_count": 11,
     "metadata": {},
     "output_type": "execute_result"
    },
    {
     "data": {
      "image/png": "[encoded data removed]",
      "text/plain": [
       "<Figure size 432x288 with 1 Axes>"
      ]
     },
     "metadata": {
      "needs_background": "light"
     },
     "output_type": "display_data"
    }
   ],
   "source": [
    "plt.plot(M_true)\n",
    "plt.plot(state[:nx+1])"
   ]
  },
  {
   "cell_type": "code",
   "execution_count": 12,
   "metadata": {},
   "outputs": [
    {
     "data": {
      "text/plain": [
       "[<matplotlib.lines.Line2D at 0x7fb6aeaffbe0>]"
      ]
     },
     "execution_count": 12,
     "metadata": {},
     "output_type": "execute_result"
    },
    {
     "data": {
      "image/png": "[encoded data removed]",
      "text/plain": [
       "<Figure size 432x288 with 1 Axes>"
      ]
     },
     "metadata": {
      "needs_background": "light"
     },
     "output_type": "display_data"
    }
   ],
   "source": [
    "plt.plot(b_true)\n",
    "plt.plot(state[nx+1:])"
   ]
  },
  {
   "cell_type": "markdown",
   "metadata": {},
   "source": [
    "https://gregorygundersen.com/blog/2019/01/17/randomized-svd/"
   ]
  },
  {
   "cell_type": "code",
   "execution_count": 13,
   "metadata": {},
   "outputs": [
    {
     "data": {
      "text/plain": [
       "0"
      ]
     },
     "execution_count": 13,
     "metadata": {},
     "output_type": "execute_result"
    }
   ],
   "source": [
    "\n",
    "def write_vector_for_A_action(vector, filename = \"direction_A_action.txt\"):\n",
    "\n",
    "    with open(filename, 'w') as writer:\n",
    "        for i in range(2*(nx+1)):\n",
    "            writer.write(f\"{vector[i]}\\n\")        \n",
    "    return None\n",
    "        \n",
    "def write_vector_for_AT_action(vector, filename = \"direction_AT_action.txt\"):\n",
    "    \n",
    "    with open(filename, 'w') as writer:\n",
    "        for i in range(nx+1):\n",
    "            writer.write(f\"{vector[i]}\\n\")        \n",
    "    return None\n",
    "\n",
    "def read_vector_from_A_action(length = nx+1, filename = \"A_action.txt\"):\n",
    "\n",
    "    vector = np.zeros((length,), dtype = float)\n",
    "    \n",
    "    with open(filename, 'r') as reader:\n",
    "        content = reader.readlines()\n",
    "        for i in range(length):\n",
    "            vector[i] = float(content[i])\n",
    "    return vector\n",
    "        \n",
    "def read_vector_from_AT_action(length = 2*(nx+1), filename = \"AT_action.txt\"):\n",
    "    \n",
    "    vector = np.zeros((length,), dtype = float)\n",
    "    \n",
    "    with open(filename, 'r') as reader:\n",
    "        content = reader.readlines()\n",
    "        for i in range(length):\n",
    "            vector[i] = float(content[i])\n",
    "    return vector\n",
    "\n",
    "def action_A(vector):\n",
    "    write_vector_for_A_action(vector)\n",
    "    os.system(\"./A_action\")\n",
    "    answer = read_vector_from_A_action()\n",
    "    return answer\n",
    "\n",
    "def action_AT(vector):\n",
    "    write_vector_for_AT_action(vector)\n",
    "    os.system(\"./AT_action\")\n",
    "    answer = read_vector_from_AT_action()\n",
    "    return answer\n",
    "\n",
    "def hessian_misfit_action(vector, R_inv = np.eye(31)):\n",
    "    answer = action_A(vector)\n",
    "    answer = np.matmul(R_inv, answer)\n",
    "    answer = action_AT(answer)\n",
    "    \n",
    "    return answer\n",
    "\n",
    "def sqrt_B(B):\n",
    "    D, V = np.linalg.eig(B)\n",
    "    sqrt_B = np.matmul(V, np.diag(D**0.5))\n",
    "    sqrt_B = np.matmul(sqrt_B, V.T)\n",
    "    \n",
    "    return sqrt_B\n",
    "    \n",
    "    \n",
    "def prior_preconditioned_hessian_misfit_action(vector, B = 0.01*np.eye(2*(nx+1))):\n",
    "    answer = np.matmul(sqrt_B(B), vector)\n",
    "    answer = hessian_misfit_action(answer)\n",
    "\n",
    "    answer = np.matmul(sqrt_B(B).T, answer)\n",
    "    \n",
    "    return answer\n",
    "\n",
    "def randomized_EVD(k, dim_w = 2*(nx+1), p = 0):\n",
    "    \n",
    "    for i in range(k):\n",
    "        w = np.random.normal(size=(dim_w,))\n",
    "        y = prior_preconditioned_hessian_misfit_action(w)\n",
    "\n",
    "        \n",
    "        if (i > 0):\n",
    "            q_tilde = np.eye(y.shape[0]) - np.matmul(Q[:,:i], Q[:,:i].T)\n",
    "            q_tilde = np.matmul(q_tilde, y)\n",
    "        else: \n",
    "            q_tilde = np.copy(y)\n",
    "            Q = np.zeros((y.shape[0],k))\n",
    "        \n",
    "        q = q_tilde / np.linalg.norm(q_tilde)\n",
    "        \n",
    "        Q[:,i] = q.T\n",
    "        \n",
    "    C = np.zeros((k, k))\n",
    "    for i in range(k):\n",
    "        canonical_basis_vector = np.eye(k, dtype = 'float')[:,i]\n",
    "        AT_Rinv_A_Q_canonical = prior_preconditioned_hessian_misfit_action(np.matmul(Q, canonical_basis_vector))\n",
    "        C[:,i] = np.matmul(Q.T, AT_Rinv_A_Q_canonical)\n",
    "        \n",
    "    D, V = np.linalg.eig(C)\n",
    "    \n",
    "    V = np.matmul(Q, V)\n",
    "    \n",
    "    A_gauss_newton = np.matmul(np.matmul(V, np.diag(D)), V.T)\n",
    "    return C, D, V, A_gauss_newton, Q\n",
    "\n",
    "os.system(\"make clean; make -f Makefile_A_action\")\n",
    "os.system(\"make clean; make -f Makefile_AT_action\")"
   ]
  },
  {
   "cell_type": "code",
   "execution_count": 14,
   "metadata": {},
   "outputs": [],
   "source": [
    "k = 14\n",
    "C, D, V, GN_hessian, Q = randomized_EVD(k)"
   ]
  },
  {
   "cell_type": "code",
   "execution_count": 15,
   "metadata": {},
   "outputs": [
    {
     "data": {
      "text/plain": [
       "(array([[0.01, 0.  , 0.  , ..., 0.  , 0.  , 0.  ],\n",
       "        [0.  , 0.01, 0.  , ..., 0.  , 0.  , 0.  ],\n",
       "        [0.  , 0.  , 0.01, ..., 0.  , 0.  , 0.  ],\n",
       "        ...,\n",
       "        [0.  , 0.  , 0.  , ..., 0.01, 0.  , 0.  ],\n",
       "        [0.  , 0.  , 0.  , ..., 0.  , 0.01, 0.  ],\n",
       "        [0.  , 0.  , 0.  , ..., 0.  , 0.  , 0.01]]),\n",
       " array([[ 1.00000000e-02,  0.00000000e+00,  0.00000000e+00, ...,\n",
       "          0.00000000e+00,  0.00000000e+00,  0.00000000e+00],\n",
       "        [ 0.00000000e+00,  9.76356353e-03, -3.08500149e-04, ...,\n",
       "         -3.37248099e-08,  0.00000000e+00,  0.00000000e+00],\n",
       "        [ 0.00000000e+00, -3.08500149e-04,  9.54723386e-03, ...,\n",
       "         -5.31337042e-08,  0.00000000e+00,  0.00000000e+00],\n",
       "        ...,\n",
       "        [ 0.00000000e+00, -3.37248099e-08, -5.31337042e-08, ...,\n",
       "          9.99860121e-03,  0.00000000e+00,  0.00000000e+00],\n",
       "        [ 0.00000000e+00,  0.00000000e+00,  0.00000000e+00, ...,\n",
       "          0.00000000e+00,  1.00000000e-02,  0.00000000e+00],\n",
       "        [ 0.00000000e+00,  0.00000000e+00,  0.00000000e+00, ...,\n",
       "          0.00000000e+00,  0.00000000e+00,  1.00000000e-02]]))"
      ]
     },
     "execution_count": 15,
     "metadata": {},
     "output_type": "execute_result"
    }
   ],
   "source": [
    "B = 0.01*np.eye(2*(nx+1))\n",
    "\n",
    "learnings = np.zeros(B.shape)\n",
    "for i in range(k):\n",
    "    learnings = learnings + D[i]/(D[i]+1)*np.outer(np.matmul(sqrt_B(B),V[:,i]), np.matmul(sqrt_B(B),V[:,i]))\n",
    "    \n",
    "P = B - learnings\n",
    "\n",
    "B, P"
   ]
  },
  {
   "cell_type": "code",
   "execution_count": 16,
   "metadata": {},
   "outputs": [
    {
     "data": {
      "text/plain": [
       "<matplotlib.colorbar.Colorbar at 0x7fb6aec0f0d0>"
      ]
     },
     "execution_count": 16,
     "metadata": {},
     "output_type": "execute_result"
    },
    {
     "data": {
      "image/png": "[encoded data removed]",
      "text/plain": [
       "<Figure size 432x288 with 2 Axes>"
      ]
     },
     "metadata": {
      "needs_background": "light"
     },
     "output_type": "display_data"
    }
   ],
   "source": [
    "plt.imshow(P)\n",
    "plt.colorbar()"
   ]
  },
  {
   "cell_type": "code",
   "execution_count": 19,
   "metadata": {},
   "outputs": [
    {
     "data": {
      "text/plain": [
       "array([0.01      , 0.00976356, 0.00954723, 0.00939473, 0.00929191,\n",
       "       0.00918789, 0.00909729, 0.00897841, 0.00881366, 0.00862173,\n",
       "       0.00837823, 0.00814195, 0.00792654, 0.00818807, 0.00844187,\n",
       "       0.00862244, 0.00874562, 0.00881537, 0.00881057, 0.00872861,\n",
       "       0.00866353, 0.00856772, 0.00842023, 0.00832764, 0.00817389,\n",
       "       0.0079067 , 0.00745109, 0.00644289, 0.01      , 0.01      ,\n",
       "       0.01      , 0.00998614, 0.0099568 , 0.00995874, 0.0099743 ,\n",
       "       0.00997066, 0.00994971, 0.0099764 , 0.00997902, 0.00997641,\n",
       "       0.00998567, 0.00996163, 0.0099674 , 0.00994398, 0.00994804,\n",
       "       0.00994738, 0.00996667, 0.00998607, 0.00997915, 0.00996694,\n",
       "       0.00995098, 0.00996657, 0.0099782 , 0.00994345, 0.00995155,\n",
       "       0.00993393, 0.00992935, 0.00995154, 0.00995982, 0.0099986 ,\n",
       "       0.01      , 0.01      ])"
      ]
     },
     "execution_count": 19,
     "metadata": {},
     "output_type": "execute_result"
    }
   ],
   "source": [
    "np.diag(P)"
   ]
  },
  {
   "cell_type": "code",
   "execution_count": null,
   "metadata": {},
   "outputs": [],
   "source": []
  }
 ],
 "metadata": {
  "kernelspec": {
   "display_name": "Python 3",
   "language": "python",
   "name": "python3"
  },
  "language_info": {
   "codemirror_mode": {
    "name": "ipython",
    "version": 3
   },
   "file_extension": ".py",
   "mimetype": "text/x-python",
   "name": "python",
   "nbconvert_exporter": "python",
   "pygments_lexer": "ipython3",
   "version": "3.8.3"
  }
 },
 "nbformat": 4,
 "nbformat_minor": 4
}
